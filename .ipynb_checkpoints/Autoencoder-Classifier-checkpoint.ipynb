{
 "cells": [
  {
   "cell_type": "markdown",
   "id": "68421f44",
   "metadata": {},
   "source": [
    "## Convolutional AutoEncoder Classifier\n",
    "\n",
    "This network will consist of the same encoder as used before but the head will classify the images into the number that they represent."
   ]
  },
  {
   "cell_type": "markdown",
   "id": "3983829d",
   "metadata": {},
   "source": [
    "## Imports"
   ]
  },
  {
   "cell_type": "code",
   "execution_count": 8,
   "id": "88293503",
   "metadata": {},
   "outputs": [],
   "source": [
    "import torch\n",
    "import torch.nn as nn\n",
    "import torch.optim as optim\n",
    "from torchvision import datasets\n",
    "from torchvision import transforms\n",
    "import matplotlib.pyplot as plt\n",
    "import numpy as np"
   ]
  },
  {
   "cell_type": "markdown",
   "id": "15a25ecd",
   "metadata": {},
   "source": [
    "## Device Agnostic Code"
   ]
  },
  {
   "cell_type": "code",
   "execution_count": 2,
   "id": "3e8743f7",
   "metadata": {},
   "outputs": [],
   "source": [
    "try:\n",
    "    device = 'mps' if torch.backends.mps.is_available() else 'cpu'\n",
    "except:\n",
    "    device = 'cuda' if torch.cuda.is_available() else 'cpu'"
   ]
  },
  {
   "cell_type": "markdown",
   "id": "df4f8182",
   "metadata": {},
   "source": [
    "## Loading the dataset"
   ]
  },
  {
   "cell_type": "code",
   "execution_count": 3,
   "id": "404557e5",
   "metadata": {},
   "outputs": [],
   "source": [
    "# Transforms images to a PyTorch tensor\n",
    "tensor_transform = transforms.ToTensor()\n",
    "\n",
    "# Download the MNIST Dataset\n",
    "dataset = datasets.MNIST(root='./data',\n",
    "                        train=True,\n",
    "                        download=True,\n",
    "                        transform=tensor_transform)\n",
    "\n",
    "# DataLoader is used to load the dataset for training\n",
    "loader = torch.utils.data.DataLoader(dataset=dataset,\n",
    "                                    batch_size=20,\n",
    "                                    shuffle=True)"
   ]
  },
  {
   "cell_type": "markdown",
   "id": "00e737ce",
   "metadata": {},
   "source": [
    "## Visualise the data"
   ]
  },
  {
   "cell_type": "code",
   "execution_count": 4,
   "id": "0a653702",
   "metadata": {},
   "outputs": [
    {
     "name": "stdout",
     "output_type": "stream",
     "text": [
      "(20, 1, 28, 28)\n"
     ]
    },
    {
     "data": {
      "text/plain": [
       "<matplotlib.image.AxesImage at 0x7fdebc134d60>"
      ]
     },
     "execution_count": 4,
     "metadata": {},
     "output_type": "execute_result"
    },
    {
     "data": {
      "image/png": "[encoded data removed]",
      "text/plain": [
       "<Figure size 360x360 with 1 Axes>"
      ]
     },
     "metadata": {
      "needs_background": "light"
     },
     "output_type": "display_data"
    }
   ],
   "source": [
    "# Get a batch\n",
    "dataiter = iter(loader)\n",
    "images, labels = next(dataiter)\n",
    "images = images.numpy()\n",
    "print(images.shape)\n",
    "\n",
    "# Plot an image\n",
    "img = np.squeeze(images[0])\n",
    "\n",
    "fig = plt.figure(figsize=(5,5))\n",
    "ax = fig.add_subplot(111)\n",
    "ax.imshow(img, cmap='gray')"
   ]
  },
  {
   "cell_type": "markdown",
   "id": "a457cb21",
   "metadata": {},
   "source": [
    "## Autoencoder"
   ]
  },
  {
   "cell_type": "code",
   "execution_count": 33,
   "id": "38bb92c0",
   "metadata": {},
   "outputs": [],
   "source": [
    "class AE(nn.Module):\n",
    "    def __init__(self):\n",
    "        super().__init__()\n",
    "        \n",
    "        # Encoder 1 ==> 16 ==> 2\n",
    "        self.encode = nn.Sequential(\n",
    "            nn.Conv2d(1, 16, 3, 1, 1),\n",
    "            nn.ReLU(),\n",
    "            nn.MaxPool2d(2,2),\n",
    "            nn.Conv2d(16, 4, 3, 1, 1),\n",
    "            nn.ReLU(),\n",
    "            nn.MaxPool2d(2,2)\n",
    "        )\n",
    "        \n",
    "        \n",
    "        # Decoder 2 ==> 16 == > 1\n",
    "        self.decode = nn.Sequential(\n",
    "            nn.Flatten(),\n",
    "            nn.Linear(196, 64),\n",
    "            nn.ReLU(),\n",
    "            nn.Linear(64,32),\n",
    "            nn.ReLU(),\n",
    "            nn.Linear(32,10),\n",
    "            nn.LogSoftmax()\n",
    "        )\n",
    "        \n",
    "    def forward(self, x):\n",
    "        code = self.encode(x)\n",
    "        decode = self.decode(code)\n",
    "        return decode\n",
    "    \n",
    "model = AE()\n",
    "\n",
    "# Specify loss function\n",
    "loss_fn = nn.CrossEntropyLoss()\n",
    "\n",
    "# Specify loss function\n",
    "optimizer = optim.Adam(model.parameters(), lr=0.001)"
   ]
  },
  {
   "cell_type": "markdown",
   "id": "9d13d5b0",
   "metadata": {},
   "source": [
    "## Training the model"
   ]
  },
  {
   "cell_type": "code",
   "execution_count": 37,
   "id": "88b5bce7",
   "metadata": {},
   "outputs": [
    {
     "name": "stdout",
     "output_type": "stream",
     "text": [
      "Epoch: 0 \tTraining Loss: 6.183059\n",
      "Epoch: 1 \tTraining Loss: 2.152742\n",
      "Epoch: 2 \tTraining Loss: 1.618796\n",
      "Epoch: 3 \tTraining Loss: 1.315624\n",
      "Epoch: 4 \tTraining Loss: 1.128077\n",
      "Epoch: 5 \tTraining Loss: 0.939656\n",
      "Epoch: 6 \tTraining Loss: 0.850548\n",
      "Epoch: 7 \tTraining Loss: 0.759624\n",
      "Epoch: 8 \tTraining Loss: 0.679806\n",
      "Epoch: 9 \tTraining Loss: 0.638253\n",
      "Epoch: 10 \tTraining Loss: 0.554864\n",
      "Epoch: 11 \tTraining Loss: 0.528934\n",
      "Epoch: 12 \tTraining Loss: 0.467707\n",
      "Epoch: 13 \tTraining Loss: 0.453620\n",
      "Epoch: 14 \tTraining Loss: 0.455345\n",
      "Epoch: 15 \tTraining Loss: 0.405918\n",
      "Epoch: 16 \tTraining Loss: 0.370667\n",
      "Epoch: 17 \tTraining Loss: 0.360734\n",
      "Epoch: 18 \tTraining Loss: 0.355192\n",
      "Epoch: 19 \tTraining Loss: 0.304531\n",
      "Epoch: 20 \tTraining Loss: 0.313923\n",
      "Epoch: 21 \tTraining Loss: 0.306428\n",
      "Epoch: 22 \tTraining Loss: 0.261841\n",
      "Epoch: 23 \tTraining Loss: 0.275268\n",
      "Epoch: 24 \tTraining Loss: 0.267221\n",
      "Epoch: 25 \tTraining Loss: 0.265010\n",
      "Epoch: 26 \tTraining Loss: 0.251989\n",
      "Epoch: 27 \tTraining Loss: 0.218634\n",
      "Epoch: 28 \tTraining Loss: 0.219928\n",
      "Epoch: 29 \tTraining Loss: 0.231572\n"
     ]
    }
   ],
   "source": [
    "epochs = 30\n",
    "outputs = []\n",
    "losses = []\n",
    "\n",
    "# Transfer model to device\n",
    "model.to(device)\n",
    "\n",
    "for epoch in range(epochs):\n",
    "    # Reset train loss\n",
    "    train_loss = 0.0\n",
    "    for (image, target) in loader:\n",
    "        # Move data to device\n",
    "        image = image.to(device)\n",
    "        target = target.to(device)\n",
    "        \n",
    "        # Forward pass\n",
    "        output = model(image)\n",
    "        loss = loss_fn(output, target)\n",
    "        \n",
    "        optimizer.zero_grad()\n",
    "        # Backpropagate\n",
    "        loss.backward()\n",
    "        optimizer.step()\n",
    "        \n",
    "        # Calculate batch loss\n",
    "        train_loss += loss.item()*image.size(0)\n",
    "    \n",
    "    train_loss = train_loss/len(loader)\n",
    "    losses.append(train_loss)\n",
    "    outputs.append((epochs, image, output))\n",
    "    print(f'Epoch: {epoch} \\tTraining Loss: {train_loss:.6f}')"
   ]
  },
  {
   "cell_type": "code",
   "execution_count": 47,
   "id": "cb7e1230",
   "metadata": {},
   "outputs": [
    {
     "data": {
      "text/plain": [
       "Text(0.5, 0, 'Epoch')"
      ]
     },
     "execution_count": 47,
     "metadata": {},
     "output_type": "execute_result"
    },
    {
     "data": {
      "image/png": "[encoded data removed]",
      "text/plain": [
       "<Figure size 432x288 with 1 Axes>"
      ]
     },
     "metadata": {
      "needs_background": "light"
     },
     "output_type": "display_data"
    }
   ],
   "source": [
    "plt.plot(losses)\n",
    "plt.title('Loss Graph')\n",
    "plt.ylabel('Loss')\n",
    "plt.xlabel('Epoch')"
   ]
  },
  {
   "cell_type": "markdown",
   "id": "f852ee1b",
   "metadata": {},
   "source": [
    "## Model Testing"
   ]
  },
  {
   "cell_type": "code",
   "execution_count": 46,
   "id": "98bd65a8",
   "metadata": {},
   "outputs": [
    {
     "name": "stdout",
     "output_type": "stream",
     "text": [
      "tensor(8, device='cuda:0')\n"
     ]
    },
    {
     "data": {
      "text/plain": [
       "<matplotlib.image.AxesImage at 0x7fde88d42df0>"
      ]
     },
     "execution_count": 46,
     "metadata": {},
     "output_type": "execute_result"
    },
    {
     "data": {
      "image/png": "[encoded data removed]",
      "text/plain": [
       "<Figure size 360x360 with 1 Axes>"
      ]
     },
     "metadata": {
      "needs_background": "light"
     },
     "output_type": "display_data"
    }
   ],
   "source": [
    "# Download the MNIST Test Dataset\n",
    "dataset = datasets.MNIST(root='./data',\n",
    "                        train=False,\n",
    "                        download=True,\n",
    "                        transform=tensor_transform)\n",
    "dataiter = iter(loader)\n",
    "images, labels = next(dataiter)\n",
    "print(model(images.to(device))[0].argmax())\n",
    "images_np = images.numpy()\n",
    "\n",
    "# Plot an image\n",
    "img = np.squeeze(images_np[0])\n",
    "\n",
    "fig = plt.figure(figsize=(5,5))\n",
    "ax = fig.add_subplot(111)\n",
    "ax.imshow(img, cmap='gray')"
   ]
  }
 ],
 "metadata": {
  "kernelspec": {
   "display_name": "mmsign",
   "language": "python",
   "name": "mmsign"
  },
  "language_info": {
   "codemirror_mode": {
    "name": "ipython",
    "version": 3
   },
   "file_extension": ".py",
   "mimetype": "text/x-python",
   "name": "python",
   "nbconvert_exporter": "python",
   "pygments_lexer": "ipython3",
   "version": "3.8.15"
  }
 },
 "nbformat": 4,
 "nbformat_minor": 5
}
