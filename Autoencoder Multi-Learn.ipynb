{
 "cells": [
  {
   "cell_type": "markdown",
   "id": "32b3e8ec",
   "metadata": {},
   "source": [
    "## Imports"
   ]
  },
  {
   "cell_type": "code",
   "execution_count": 4,
   "id": "2971c333",
   "metadata": {},
   "outputs": [],
   "source": [
    "import torch\n",
    "import torch.nn as nn\n",
    "import torch.optim as optim\n",
    "from torchvision import datasets\n",
    "from torchvision import transforms\n",
    "import matplotlib.pyplot as plt\n",
    "import numpy as np"
   ]
  },
  {
   "cell_type": "markdown",
   "id": "b191c41e",
   "metadata": {},
   "source": [
    "## Device Agnostic Code"
   ]
  },
  {
   "cell_type": "code",
   "execution_count": 2,
   "id": "b4528212",
   "metadata": {},
   "outputs": [],
   "source": [
    "try:\n",
    "    device = 'mps' if torch.backends.mps.is_available() else 'cpu'\n",
    "except:\n",
    "    device = 'cuda' if torch.cuda.is_available() else 'cpu'"
   ]
  },
  {
   "cell_type": "markdown",
   "id": "134ffb26",
   "metadata": {},
   "source": [
    "## Loading the dataset"
   ]
  },
  {
   "cell_type": "code",
   "execution_count": 5,
   "id": "9997a731",
   "metadata": {},
   "outputs": [],
   "source": [
    "# Transforms images to a PyTorch tensor\n",
    "tensor_transform = transforms.ToTensor()\n",
    "\n",
    "# Download the MNIST Dataset\n",
    "dataset = datasets.MNIST(root='./data',\n",
    "                        train=True,\n",
    "                        download=True,\n",
    "                        transform=tensor_transform)\n",
    "\n",
    "# DataLoader is used to load the dataset for training\n",
    "loader = torch.utils.data.DataLoader(dataset=dataset,\n",
    "                                    batch_size=20,\n",
    "                                    shuffle=True)"
   ]
  },
  {
   "cell_type": "markdown",
   "id": "70d4621f",
   "metadata": {},
   "source": [
    "## Visualise the data"
   ]
  },
  {
   "cell_type": "code",
   "execution_count": 6,
   "id": "30b70cdd",
   "metadata": {},
   "outputs": [
    {
     "name": "stdout",
     "output_type": "stream",
     "text": [
      "(20, 1, 28, 28)\n"
     ]
    },
    {
     "data": {
      "text/plain": [
       "<matplotlib.image.AxesImage at 0x7f3f88127550>"
      ]
     },
     "execution_count": 6,
     "metadata": {},
     "output_type": "execute_result"
    },
    {
     "data": {
      "image/png": "[encoded data removed]",
      "text/plain": [
       "<Figure size 360x360 with 1 Axes>"
      ]
     },
     "metadata": {
      "needs_background": "light"
     },
     "output_type": "display_data"
    }
   ],
   "source": [
    "# Get a batch\n",
    "dataiter = iter(loader)\n",
    "images, labels = next(dataiter)\n",
    "images = images.numpy()\n",
    "print(images.shape)\n",
    "\n",
    "# Plot an image\n",
    "img = np.squeeze(images[0])\n",
    "\n",
    "fig = plt.figure(figsize=(5,5))\n",
    "ax = fig.add_subplot(111)\n",
    "ax.imshow(img, cmap='gray')"
   ]
  },
  {
   "cell_type": "markdown",
   "id": "5f5be781",
   "metadata": {},
   "source": [
    "## Autoencoder"
   ]
  },
  {
   "cell_type": "code",
   "execution_count": 7,
   "id": "7de53f39",
   "metadata": {},
   "outputs": [],
   "source": [
    "class AE(nn.Module):\n",
    "    def __init__(self):\n",
    "        super().__init__()\n",
    "        \n",
    "        # Encoder 1 ==> 16 ==> 2\n",
    "        self.encode = nn.Sequential(\n",
    "            nn.Conv2d(1, 16, 3, 1, 1),\n",
    "            nn.ReLU(),\n",
    "            nn.MaxPool2d(2,2),\n",
    "            nn.Conv2d(16, 4, 3, 1, 1),\n",
    "            nn.ReLU(),\n",
    "            nn.MaxPool2d(2,2)\n",
    "        )\n",
    "        \n",
    "        \n",
    "        # Decoder for classification\n",
    "        self.classify = nn.Sequential(\n",
    "            nn.Flatten(),\n",
    "            nn.Linear(196, 64),\n",
    "            nn.ReLU(),\n",
    "            nn.Linear(64,32),\n",
    "            nn.ReLU(),\n",
    "            nn.Linear(32,10),\n",
    "            nn.LogSoftmax()\n",
    "        )\n",
    "        \n",
    "        # Decoder for upscale 4 ==> 16 == > 1\n",
    "        self.upscale = nn.Sequential(\n",
    "            nn.ConvTranspose2d(4, 16, 2, 2),\n",
    "            nn.ReLU(),\n",
    "            nn.ConvTranspose2d(16, 1, 2, 2),\n",
    "            nn.Sigmoid()\n",
    "        )\n",
    "        \n",
    "    def forward(self, x):\n",
    "        code = self.encode(x)\n",
    "        classifier = self.classify(code)\n",
    "        upscaled = self.upscale(code)\n",
    "        return classifier, upscaled\n",
    "    \n",
    "model = AE()\n",
    "\n",
    "# Specify loss functions\n",
    "loss_upscale = nn.MSELoss()\n",
    "loss_classify = nn.CrossEntropyLoss()\n",
    "\n",
    "# Specify loss function\n",
    "optimizer = optim.Adam(model.parameters(), lr=0.001)"
   ]
  },
  {
   "cell_type": "markdown",
   "id": "907d7c06",
   "metadata": {},
   "source": [
    "## Training the model"
   ]
  },
  {
   "cell_type": "code",
   "execution_count": 10,
   "id": "e38e6d54",
   "metadata": {},
   "outputs": [
    {
     "name": "stdout",
     "output_type": "stream",
     "text": [
      "Epoch: 0 \tTraining Loss: 2.018705\n",
      "Epoch: 1 \tTraining Loss: 1.699695\n",
      "Epoch: 2 \tTraining Loss: 1.526708\n",
      "Epoch: 3 \tTraining Loss: 1.374082\n",
      "Epoch: 4 \tTraining Loss: 1.297789\n",
      "Epoch: 5 \tTraining Loss: 1.228183\n",
      "Epoch: 6 \tTraining Loss: 1.196448\n",
      "Epoch: 7 \tTraining Loss: 1.164001\n",
      "Epoch: 8 \tTraining Loss: 1.077183\n",
      "Epoch: 9 \tTraining Loss: 0.875444\n",
      "Epoch: 10 \tTraining Loss: 0.695858\n",
      "Epoch: 11 \tTraining Loss: 0.552672\n",
      "Epoch: 12 \tTraining Loss: 0.538675\n",
      "Epoch: 13 \tTraining Loss: 0.506722\n",
      "Epoch: 14 \tTraining Loss: 0.503163\n",
      "Epoch: 15 \tTraining Loss: 0.490034\n",
      "Epoch: 16 \tTraining Loss: 0.474940\n",
      "Epoch: 17 \tTraining Loss: 0.467285\n",
      "Epoch: 18 \tTraining Loss: 0.448960\n",
      "Epoch: 19 \tTraining Loss: 0.440118\n",
      "Epoch: 20 \tTraining Loss: 0.447172\n",
      "Epoch: 21 \tTraining Loss: 0.413067\n",
      "Epoch: 22 \tTraining Loss: 0.426728\n",
      "Epoch: 23 \tTraining Loss: 0.398215\n",
      "Epoch: 24 \tTraining Loss: 0.413818\n",
      "Epoch: 25 \tTraining Loss: 0.398508\n",
      "Epoch: 26 \tTraining Loss: 0.401821\n",
      "Epoch: 27 \tTraining Loss: 0.380781\n",
      "Epoch: 28 \tTraining Loss: 0.378190\n",
      "Epoch: 29 \tTraining Loss: 0.375059\n"
     ]
    }
   ],
   "source": [
    "epochs = 30\n",
    "losses = []\n",
    "alpha = 0.5\n",
    "\n",
    "# Transfer model to device\n",
    "model.to(device)\n",
    "\n",
    "for epoch in range(epochs):\n",
    "    # Reset train loss\n",
    "    train_loss = 0.0\n",
    "    for (image, target) in loader:\n",
    "        # Move data to device\n",
    "        image = image.to(device)\n",
    "        target = target.to(device)\n",
    "        \n",
    "        # Forward pass\n",
    "        label, reconstructed = model(image)\n",
    "        loss_1 = loss_upscale(reconstructed, image)\n",
    "        loss_2 = loss_classify(label, target)\n",
    "        \n",
    "        optimizer.zero_grad()\n",
    "        # Combine loss\n",
    "        loss_combined = alpha*loss_1 + (1-alpha)*loss_2\n",
    "        # Backpropagate\n",
    "        loss_combined.backward()\n",
    "        optimizer.step()\n",
    "        \n",
    "        # Calculate batch loss\n",
    "        train_loss += (loss_1.item()+loss_2.item())*image.size(0)/2\n",
    "    \n",
    "    train_loss = train_loss/len(loader)\n",
    "    losses.append(train_loss)\n",
    "    print(f'Epoch: {epoch} \\tTraining Loss: {train_loss:.6f}')"
   ]
  },
  {
   "cell_type": "markdown",
   "id": "0eb52d25",
   "metadata": {},
   "source": [
    "## Evaluating the model"
   ]
  },
  {
   "cell_type": "code",
   "execution_count": 22,
   "id": "0cbccbc0",
   "metadata": {
    "scrolled": true
   },
   "outputs": [
    {
     "name": "stdout",
     "output_type": "stream",
     "text": [
      "\n",
      "Test set: Avg. loss: 0.0641, Accuracy: 9854/10000 (99%)\n",
      "\n"
     ]
    }
   ],
   "source": [
    "import torch.nn.functional as F\n",
    "\n",
    "model.eval()\n",
    "test_loss = 0\n",
    "correct = 0\n",
    "test_losses = []\n",
    "# Download the MNIST Test Dataset\n",
    "test_dataset = datasets.MNIST(root='./data',\n",
    "                        train=False,\n",
    "                        download=True,\n",
    "                        transform=tensor_transform)\n",
    "\n",
    "test_loader = torch.utils.data.DataLoader(dataset=test_dataset,\n",
    "                                         batch_size=20,\n",
    "                                         shuffle=True)\n",
    "\n",
    "with torch.no_grad():\n",
    "    for data, target in test_loader:\n",
    "        data, target = data.to(device), target.to(device)\n",
    "        output, reconstructed = model(data)\n",
    "        test_loss += F.nll_loss(output, target, size_average=False).item()\n",
    "        pred = output.data.max(1, keepdim=True)[1]\n",
    "        correct += pred.eq(target.data.view_as(pred)).sum()\n",
    "    \n",
    "test_loss /= len(test_loader.dataset)\n",
    "test_losses.append(test_loss)\n",
    "print('\\nTest set: Avg. loss: {:.4f}, Accuracy: {}/{} ({:.0f}%)\\n'.format(\n",
    "test_loss, correct, len(test_loader.dataset),\n",
    "100. * correct / len(test_loader.dataset)))"
   ]
  },
  {
   "cell_type": "code",
   "execution_count": 37,
   "id": "65e17eae",
   "metadata": {},
   "outputs": [
    {
     "name": "stdout",
     "output_type": "stream",
     "text": [
      "Ground truth: 3 \n",
      "Prediction: 3\n"
     ]
    },
    {
     "data": {
      "text/plain": [
       "<matplotlib.image.AxesImage at 0x7f3f88ae3bb0>"
      ]
     },
     "execution_count": 37,
     "metadata": {},
     "output_type": "execute_result"
    },
    {
     "data": {
      "image/png": "[encoded data removed]",
      "text/plain": [
       "<Figure size 360x360 with 1 Axes>"
      ]
     },
     "metadata": {
      "needs_background": "light"
     },
     "output_type": "display_data"
    },
    {
     "data": {
      "image/png": "[encoded data removed]",
      "text/plain": [
       "<Figure size 360x360 with 1 Axes>"
      ]
     },
     "metadata": {
      "needs_background": "light"
     },
     "output_type": "display_data"
    }
   ],
   "source": [
    "dataiter = iter(test_loader)\n",
    "images, labels = next(dataiter)\n",
    "label, reconstructed = model(images.to(device))\n",
    "print(f'Ground truth: {labels[0]} \\nPrediction: {label[0].argmax()}')\n",
    "\n",
    "images_np = images.numpy()\n",
    "\n",
    "# Plot an image\n",
    "img = np.squeeze(images_np[0])\n",
    "\n",
    "fig = plt.figure(figsize=(5,5))\n",
    "ax = fig.add_subplot(111)\n",
    "ax.imshow(img, cmap='gray')\n",
    "\n",
    "# Plot reconstructed image\n",
    "img = np.squeeze(reconstructed.detach().cpu().numpy()[0])\n",
    "\n",
    "fig = plt.figure(figsize=(5,5))\n",
    "ax = fig.add_subplot(111)\n",
    "ax.imshow(img, cmap='gray')"
   ]
  }
 ],
 "metadata": {
  "kernelspec": {
   "display_name": "mmsign",
   "language": "python",
   "name": "mmsign"
  },
  "language_info": {
   "codemirror_mode": {
    "name": "ipython",
    "version": 3
   },
   "file_extension": ".py",
   "mimetype": "text/x-python",
   "name": "python",
   "nbconvert_exporter": "python",
   "pygments_lexer": "ipython3",
   "version": "3.8.15"
  }
 },
 "nbformat": 4,
 "nbformat_minor": 5
}
